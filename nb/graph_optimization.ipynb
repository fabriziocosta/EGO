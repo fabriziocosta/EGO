{
 "cells": [
  {
   "cell_type": "code",
   "execution_count": null,
   "metadata": {
    "ExecuteTime": {
     "end_time": "2020-03-12T16:56:34.896974Z",
     "start_time": "2020-03-12T16:56:33.318032Z"
    }
   },
   "outputs": [],
   "source": [
    "%load_ext autoreload\n",
    "%autoreload 2\n",
    "%matplotlib inline\n",
    "%config InlineBackend.figure_format = 'retina'\n",
    "import matplotlib.pyplot as plt\n",
    "import numpy as np\n",
    "import scipy as sp\n",
    "import networkx as nx\n",
    "import toolz as tz\n",
    "\n",
    "from eden.util import configure_logging\n",
    "import logging\n",
    "logger = logging.getLogger()\n",
    "configure_logging(logger, verbosity=1)\n",
    "\n",
    "import warnings\n",
    "warnings.filterwarnings('ignore')\n",
    "\n",
    "from IPython.core.display import HTML\n",
    "HTML('<style>.container { width:95% !important; }</style><style>.output_png {display: table-cell;text-align: center;vertical-align: middle;}</style>')"
   ]
  },
  {
   "cell_type": "markdown",
   "metadata": {},
   "source": [
    "# Data setup"
   ]
  },
  {
   "cell_type": "code",
   "execution_count": null,
   "metadata": {},
   "outputs": [],
   "source": [
    "EXPERIMENT_TYPE = 'ARTIFICIAL'"
   ]
  },
  {
   "cell_type": "code",
   "execution_count": null,
   "metadata": {
    "ExecuteTime": {
     "end_time": "2020-03-12T17:03:25.479665Z",
     "start_time": "2020-03-12T16:56:34.899660Z"
    }
   },
   "outputs": [],
   "source": [
    "%%time\n",
    "\n",
    "EXPERIMENT_TYPE = 'ARTIFICIAL'\n",
    "\n",
    "if EXPERIMENT_TYPE == 'ARTIFICIAL':\n",
    "    from utils_artificial import build_artificial_experiment\n",
    "    from utils_artificial import display_ktop_graphs, draw_graphs, draw_history\n",
    "    from utils_artificial import display_score_statistics\n",
    "    from utils_artificial import remove_duplicates\n",
    "    res = build_artificial_experiment(\n",
    "        GRAPH_TYPE='tree', # path  tree  degree  regular  dense\n",
    "        instance_size=20,\n",
    "        n_init_instances=10, \n",
    "        n_domain_instances=100,\n",
    "        alphabet_size=4, \n",
    "        max_score_threshold=.8,\n",
    "        oracle_func=None,\n",
    "        neighborhood_estimators=['node_add','node_smooth','edge_swap','edge_expand','edge_contract'],\n",
    "        n_iterations=2, \n",
    "        n_neighbors_per_estimator_per_iteration=2)\n",
    "    \n",
    "if EXPERIMENT_TYPE == 'CHEMICAL':\n",
    "    from utils_chemoinformatics import build_chemical_experiment\n",
    "    from utils_chemoinformatics import display_ktop_graphs, draw_graphs, draw_history\n",
    "    from utils_chemoinformatics import display_score_statistics\n",
    "    from utils_chemoinformatics import remove_duplicates\n",
    "    res = build_chemical_experiment(\n",
    "        assay_id='624249',  # assay_ids = ['624466','492992','463230','651741','743219','588350','492952','624249','463213','2631','651610']\n",
    "        n_init_instances=50, \n",
    "        n_domain_instances=300,\n",
    "        max_score_threshold=.8,\n",
    "        n_targets=4)\n",
    "\n",
    "init_graphs, domain_graphs, oracle_func, target_graph = res\n",
    "print('Generated %d graphs'%len(domain_graphs))\n",
    "display_score_statistics(domain_graphs, oracle_func)\n",
    "\n",
    "print('Best graphs in initial sample of %d'%len(init_graphs))\n",
    "display_ktop_graphs(init_graphs+[target_graph], oracle_func, n_max=6)"
   ]
  },
  {
   "cell_type": "markdown",
   "metadata": {},
   "source": [
    "# Experiments"
   ]
  },
  {
   "cell_type": "code",
   "execution_count": null,
   "metadata": {},
   "outputs": [],
   "source": [
    "graphs = init_graphs[:]"
   ]
  },
  {
   "cell_type": "code",
   "execution_count": null,
   "metadata": {},
   "outputs": [],
   "source": [
    "# setup performance monitor\n",
    "from utils_monitor import make_monitor\n",
    "monitor = make_monitor(target_graph, oracle_func, draw_graphs, draw_history)"
   ]
  },
  {
   "cell_type": "code",
   "execution_count": null,
   "metadata": {},
   "outputs": [],
   "source": [
    "from ego.setup import *\n",
    "decomposition_function = do_decompose(\n",
    "    decompose_nodes_and_edges, \n",
    "    decompose_path(length=2), \n",
    "    decompose_neighborhood, \n",
    "    decompose_neighborhood(radius=2), \n",
    "    decompose_neighborhood(radius=3), \n",
    "    decompose_cycles)\n",
    "\n",
    "decomposition_score_estimator = decomposition_function\n",
    "decomposition_part_importance_graph_grammar = do_decompose(decompose_neighborhood, decompose_neighborhood(radius=2), decompose_neighborhood(radius=3))\n",
    "decomposition_adaptive_graph_grammar_base = decompose_neighborhood\n",
    "decomposition_adaptive_graph_grammar_approx = do_decompose(decompose_nodes_and_edges, decompose_neighborhood)\n",
    "decomposition_feasibility_estimator = do_decompose(decompose_neighborhood, decompose_cycles)"
   ]
  },
  {
   "cell_type": "code",
   "execution_count": null,
   "metadata": {
    "ExecuteTime": {
     "start_time": "2020-03-12T17:16:57.735Z"
    },
    "scrolled": false
   },
   "outputs": [],
   "source": [
    "%%time\n",
    "from ego.optimization.optimize import optimizer_setup\n",
    "\n",
    "# setup\n",
    "neighborhood_estimators, score_estimator, feasibility_estimator = optimizer_setup(\n",
    "    #estimators------------------------------------------------------------------\n",
    "    use_RandomForest_estimator=True,\n",
    "    use_Linear_estimator=False,\n",
    "    use_EI_estimator=False,\n",
    "    use_UCB_estimator=False,\n",
    "    n_estimators=200,\n",
    "    exploration_vs_exploitation=0,\n",
    "    decomposition_score_estimator=decomposition_score_estimator,\n",
    "    \n",
    "    use_feasibility_estimator=True,\n",
    "    decomposition_feasibility_estimator=decomposition_feasibility_estimator,\n",
    "    domain_graphs_feasibility_estimator=domain_graphs,\n",
    "    \n",
    "    #edges------------------------------------------------------------------\n",
    "    use_edge_swapping=True, n_neighbors_edge_swapping=None, n_edge_swapping=1,\n",
    "    use_edge_label_swapping=False, n_neighbors_edge_label_swapping=None, n_edge_label_swapping=1,\n",
    "    use_edge_label_mutation=True, n_neighbors_edge_mutation=None, n_edge_mutation=1,\n",
    "    use_edge_move=True, n_neighbors_edge_move=None, n_edge_move=1,\n",
    "    use_edge_removal=False, n_neighbors_edge_removal=None, n_edge_removal=1,\n",
    "    use_edge_addition=False, n_neighbors_edge_addition=100, n_edge_addition=1,\n",
    "    use_edge_expand=True, n_neighbors_edge_expand=100, n_edge_expand=1,\n",
    "    use_edge_contract=True, n_neighbors_edge_contract=100, n_edge_contract=1,\n",
    "    \n",
    "    #nodes------------------------------------------------------------------\n",
    "    use_node_label_swapping=False, n_neighbors_node_label_swapping=None, n_node_label_swapping=1,\n",
    "    use_node_label_mutation=True, n_neighbors_node_mutation=None, n_node_mutation=1,\n",
    "    use_node_removal=False, n_neighbors_node_removal=None, n_node_removal=1,\n",
    "    use_node_addition=True, n_neighbors_node_addition=100, n_node_addition=1,\n",
    "    use_node_smooth=True,n_neighbors_node_smooth=100, n_node_smooth=1,\n",
    "\n",
    "    #graph grammars------------------------------------------------------------------\n",
    "    use_part_importance_graph_grammar=False,\n",
    "    n_neighbors_part_importance_graph_grammar=None,\n",
    "    conservativeness_part_importance_graph_grammar=1,\n",
    "    context_size_part_importance_graph_grammar=4,\n",
    "    decomposition_part_importance_graph_grammar=decomposition_part_importance_graph_grammar,\n",
    "    domain_graphs_part_importance_graph_grammar=domain_graphs,\n",
    "\n",
    "    use_adaptive_graph_grammar=True,\n",
    "    n_neighbors_adaptive_graph_grammar=None,\n",
    "    conservativeness_adaptive_graph_grammar=2,\n",
    "    context_size_adaptive_graph_grammar=1,\n",
    "    part_size_adaptive_graph_grammar=4,\n",
    "    decomposition_adaptive_graph_grammar_base=decomposition_adaptive_graph_grammar_base,\n",
    "    decomposition_adaptive_graph_grammar_approx=decomposition_adaptive_graph_grammar_approx)"
   ]
  },
  {
   "cell_type": "code",
   "execution_count": null,
   "metadata": {},
   "outputs": [],
   "source": [
    "%%time\n",
    "from ego.optimization.optimize import optimize\n",
    "\n",
    "# run optimization\n",
    "graphs = optimize(\n",
    "    graphs, \n",
    "    oracle_func, \n",
    "    n_iter=100, \n",
    "    n_queries_to_oracle_per_iter=200,\n",
    "    frac_instances_to_remove_per_iter=.5,\n",
    "    sample_size_to_perturb=4, \n",
    "    n_steps_driven_by_estimator=1,\n",
    "    sample_size_for_grammars=50,\n",
    "    neighborhood_estimators=neighborhood_estimators,\n",
    "    score_estimator=score_estimator, \n",
    "    feasibility_estimator=feasibility_estimator,\n",
    "    monitor=monitor)"
   ]
  },
  {
   "cell_type": "code",
   "execution_count": null,
   "metadata": {
    "ExecuteTime": {
     "start_time": "2020-03-12T17:16:58.406Z"
    },
    "scrolled": true
   },
   "outputs": [],
   "source": [
    "# display results\n",
    "print('Target')\n",
    "display_ktop_graphs([target_graph], oracle_func, n_max=6)\n",
    "\n",
    "print('Evolution of best synthesized graph in set of size %d'%len(graphs))\n",
    "draw_history(graphs, oracle_func)\n",
    "\n",
    "print('Best synthesized graphs in set of size %d'%len(graphs))\n",
    "display_ktop_graphs(graphs, oracle_func, n_max=6)"
   ]
  },
  {
   "cell_type": "markdown",
   "metadata": {},
   "source": [
    "---"
   ]
  }
 ],
 "metadata": {
  "kernelspec": {
   "display_name": "Python 2",
   "language": "python",
   "name": "python2"
  },
  "language_info": {
   "codemirror_mode": {
    "name": "ipython",
    "version": 2
   },
   "file_extension": ".py",
   "mimetype": "text/x-python",
   "name": "python",
   "nbconvert_exporter": "python",
   "pygments_lexer": "ipython2",
   "version": "2.7.15"
  },
  "toc": {
   "base_numbering": 1,
   "nav_menu": {},
   "number_sections": true,
   "sideBar": true,
   "skip_h1_title": false,
   "title_cell": "Table of Contents",
   "title_sidebar": "Contents",
   "toc_cell": false,
   "toc_position": {},
   "toc_section_display": true,
   "toc_window_display": false
  }
 },
 "nbformat": 4,
 "nbformat_minor": 2
}
