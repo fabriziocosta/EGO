{
 "cells": [
  {
   "cell_type": "code",
   "execution_count": null,
   "metadata": {
    "ExecuteTime": {
     "start_time": "2020-03-11T14:57:14.693Z"
    }
   },
   "outputs": [],
   "source": [
    "%load_ext autoreload\n",
    "%autoreload 2\n",
    "%matplotlib inline\n",
    "%config InlineBackend.figure_format = 'retina'\n",
    "import matplotlib.pyplot as plt\n",
    "import numpy as np\n",
    "import scipy as sp\n",
    "import networkx as nx\n",
    "import toolz as tz\n",
    "\n",
    "from eden.util import configure_logging\n",
    "import logging\n",
    "logger = logging.getLogger()\n",
    "configure_logging(logger, verbosity=1)\n",
    "\n",
    "import warnings\n",
    "warnings.filterwarnings('ignore')\n",
    "\n",
    "from IPython.core.display import HTML\n",
    "HTML('<style>.container { width:95% !important; }</style><style>.output_png {display: table-cell;text-align: center;vertical-align: middle;}</style>')"
   ]
  },
  {
   "cell_type": "markdown",
   "metadata": {},
   "source": [
    "# Data setup"
   ]
  },
  {
   "cell_type": "code",
   "execution_count": null,
   "metadata": {
    "ExecuteTime": {
     "start_time": "2020-03-11T14:57:14.698Z"
    }
   },
   "outputs": [],
   "source": [
    "%%time\n",
    "\n",
    "EXPERIMENT_TYPE = 'ARTIFICIAL'\n",
    "\n",
    "if EXPERIMENT_TYPE == 'ARTIFICIAL':\n",
    "    from utils_artificial import build_artificial_experiment\n",
    "    from utils_artificial import display_ktop_graphs, draw_graphs, draw_history\n",
    "    from utils_artificial import display_score_statistics\n",
    "    from utils_artificial import remove_duplicates\n",
    "    res = build_artificial_experiment(\n",
    "        GRAPH_TYPE='degree', # path  tree  degree  regular  dense\n",
    "        n_init_instances=10, \n",
    "        n_domain_instances=100,\n",
    "        alphabet_size=4, \n",
    "        diversity=5, \n",
    "        max_score_threshold=.7)\n",
    "    \n",
    "if EXPERIMENT_TYPE == 'CHEMICAL':\n",
    "    from utils_chemoinformatics import build_chemical_experiment\n",
    "    from utils_chemoinformatics import display_ktop_graphs, draw_graphs, draw_history\n",
    "    from utils_chemoinformatics import display_score_statistics\n",
    "    from utils_chemoinformatics import remove_duplicates\n",
    "    res = build_chemical_experiment(\n",
    "        assay_id='743219',  # assay_ids = ['624466','492992','463230','651741','743219','588350','492952','624249','463213','2631','651610']\n",
    "        n_init_instances=50, \n",
    "        n_domain_instances=300,\n",
    "        max_score_threshold=.8,\n",
    "        n_targets=2)\n",
    "\n",
    "init_graphs, domain_graphs, oracle_func, target_graph = res\n",
    "print('Generated %d graphs'%len(domain_graphs))\n",
    "display_score_statistics(domain_graphs, oracle_func)\n",
    "\n",
    "print('Best graphs in initial sample of %d'%len(init_graphs))\n",
    "display_ktop_graphs(init_graphs+[target_graph], oracle_func, n_max=6)"
   ]
  },
  {
   "cell_type": "markdown",
   "metadata": {},
   "source": [
    "# Experiments"
   ]
  },
  {
   "cell_type": "code",
   "execution_count": null,
   "metadata": {
    "ExecuteTime": {
     "start_time": "2020-03-11T14:57:14.703Z"
    },
    "scrolled": true
   },
   "outputs": [],
   "source": [
    "%%time\n",
    "from ego.optimization.optimize import optimizer_setup, optimize\n",
    "\n",
    "# performance monitor\n",
    "from utils_monitor_with_target import make_monitor\n",
    "monitor = make_monitor(target_graph, oracle_func, draw_graphs, draw_history)\n",
    "\n",
    "from ego.setup import *\n",
    "decomposition_function = do_decompose(\n",
    "    decompose_nodes_and_edges, \n",
    "    decompose_path(length=2), \n",
    "    decompose_neighborhood, \n",
    "    decompose_neighborhood(radius=2), \n",
    "    decompose_neighborhood(radius=3), \n",
    "    decompose_cycles)\n",
    "\n",
    "decomposition_score_estimator = decomposition_function\n",
    "decomposition_fixed_grammar = decomposition_function\n",
    "decomposition_adaptive_grammar = decomposition_function\n",
    "\n",
    "neighborhood_estimators, score_estimator = optimizer_setup(\n",
    "    decomposition_score_estimator=decomposition_score_estimator,\n",
    "    use_UCB_estimator=False,\n",
    "    use_RandomForest_estimator=True,\n",
    "    use_Linear_estimator=False,\n",
    "    use_EI_estimator=False,\n",
    "    n_estimators=200,\n",
    "    exploration_vs_exploitation=0,\n",
    "    \n",
    "    use_edge_swapping=True,\n",
    "    n_neighbors_edge_swapping=None, n_edge_swapping=1,\n",
    "\n",
    "    use_edge_label_swapping=False,\n",
    "    n_neighbors_edge_label_swapping=None, n_edge_label_swapping=1,\n",
    "\n",
    "    use_edge_label_mutation=False,\n",
    "    n_neighbors_edge_mutation=100, n_edge_mutation=1,\n",
    "\n",
    "    use_edge_removal=True,\n",
    "    n_neighbors_edge_removal=None, n_edge_removal=1,\n",
    "\n",
    "    use_edge_addition=True,\n",
    "    n_neighbors_edge_addition=100, n_edge_addition=1,\n",
    "\n",
    "    use_node_label_swapping=False,\n",
    "    n_neighbors_node_label_swapping=None, n_node_label_swapping=1,\n",
    "\n",
    "    use_node_label_mutation=True,\n",
    "    n_neighbors_node_mutation=100, n_node_mutation=1,\n",
    "    \n",
    "    use_node_removal=False,\n",
    "    n_neighbors_node_removal=None, n_node_removal=1,\n",
    "    \n",
    "    use_node_addition=True,\n",
    "    n_neighbors_node_addition=100, n_node_addition=1,\n",
    "    \n",
    "    use_fixed_grammar=True,\n",
    "    n_neighbors_fixed_grammar=None,\n",
    "    conservativeness_fixed_grammar=3,\n",
    "    context_size_fixed_grammar=1,\n",
    "    decomposition_fixed_grammar=decomposition_fixed_grammar,\n",
    "    domain_graphs_fixed_grammar=domain_graphs,\n",
    "\n",
    "    use_adaptive_grammar=True,\n",
    "    n_neighbors_adaptive_grammar=None,\n",
    "    conservativeness_adaptive_grammar=2,\n",
    "    context_size_adaptive_grammar=1,\n",
    "    part_size_adaptive_grammar=4,\n",
    "    decomposition_adaptive_grammar=decomposition_adaptive_grammar)\n",
    "\n",
    "graphs = init_graphs[:]\n",
    "graphs = optimize(\n",
    "    graphs, \n",
    "    oracle_func, \n",
    "    n_iter=100, \n",
    "    n_queries_to_oracle_per_iter=200,\n",
    "    frac_instances_to_remove_per_iter=.5,\n",
    "    sample_size_to_perturb=4, \n",
    "    n_steps_driven_by_estimator=1,\n",
    "    sample_size_for_grammars=40,\n",
    "    neighborhood_estimators=neighborhood_estimators,\n",
    "    score_estimator=score_estimator, \n",
    "    monitor=monitor)"
   ]
  },
  {
   "cell_type": "code",
   "execution_count": null,
   "metadata": {
    "ExecuteTime": {
     "start_time": "2020-03-11T14:57:14.708Z"
    },
    "scrolled": false
   },
   "outputs": [],
   "source": [
    "print('Target')\n",
    "display_ktop_graphs([target_graph], oracle_func, n_max=6)\n",
    "\n",
    "print('Evolution of best synthesized graph in set of size %d'%len(graphs))\n",
    "draw_history(graphs, oracle_func)\n",
    "\n",
    "print('Best synthesized graphs in set of size %d'%len(graphs))\n",
    "display_ktop_graphs(graphs, oracle_func, n_max=6*2)"
   ]
  },
  {
   "cell_type": "markdown",
   "metadata": {},
   "source": [
    "---"
   ]
  }
 ],
 "metadata": {
  "kernelspec": {
   "display_name": "Python 3",
   "language": "python",
   "name": "python3"
  },
  "language_info": {
   "codemirror_mode": {
    "name": "ipython",
    "version": 3
   },
   "file_extension": ".py",
   "mimetype": "text/x-python",
   "name": "python",
   "nbconvert_exporter": "python",
   "pygments_lexer": "ipython3",
   "version": "3.7.1"
  },
  "toc": {
   "base_numbering": 1,
   "nav_menu": {},
   "number_sections": true,
   "sideBar": true,
   "skip_h1_title": false,
   "title_cell": "Table of Contents",
   "title_sidebar": "Contents",
   "toc_cell": false,
   "toc_position": {},
   "toc_section_display": true,
   "toc_window_display": false
  }
 },
 "nbformat": 4,
 "nbformat_minor": 2
}
